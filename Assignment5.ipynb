{
 "cells": [
  {
   "cell_type": "code",
   "execution_count": null,
   "id": "ad6daf23",
   "metadata": {},
   "outputs": [],
   "source": [
    "#1. Create an array that is having user defined inputs and with the help of for loop, \n",
    "#   fetch all the prime numbers and print the numbers."
   ]
  },
  {
   "cell_type": "code",
   "execution_count": null,
   "id": "324e734b",
   "metadata": {},
   "outputs": [],
   "source": [
    "arr=arrayinput('Enter an array')"
   ]
  },
  {
   "cell_type": "code",
   "execution_count": 1,
   "id": "a8d6a3f5",
   "metadata": {},
   "outputs": [
    {
     "ename": "NameError",
     "evalue": "name 'array' is not defined",
     "output_type": "error",
     "traceback": [
      "\u001b[1;31m---------------------------------------------------------------------------\u001b[0m",
      "\u001b[1;31mNameError\u001b[0m                                 Traceback (most recent call last)",
      "Cell \u001b[1;32mIn [1], line 1\u001b[0m\n\u001b[1;32m----> 1\u001b[0m ar1\u001b[38;5;241m=\u001b[39m\u001b[43marray\u001b[49m()\n\u001b[0;32m      2\u001b[0m ar1\n",
      "\u001b[1;31mNameError\u001b[0m: name 'array' is not defined"
     ]
    }
   ],
   "source": [
    "ar1=array()\n",
    "ar1"
   ]
  },
  {
   "cell_type": "code",
   "execution_count": 2,
   "id": "3139a7fb",
   "metadata": {},
   "outputs": [],
   "source": [
    "import numpy as np\n",
    "arr1=np.arange(1,100)"
   ]
  },
  {
   "cell_type": "code",
   "execution_count": 9,
   "id": "c3cf3d54",
   "metadata": {},
   "outputs": [
    {
     "data": {
      "text/plain": [
       "numpy.ndarray"
      ]
     },
     "execution_count": 9,
     "metadata": {},
     "output_type": "execute_result"
    }
   ],
   "source": [
    "type(arr1)"
   ]
  },
  {
   "cell_type": "code",
   "execution_count": 11,
   "id": "1785ce55",
   "metadata": {},
   "outputs": [
    {
     "ename": "IndentationError",
     "evalue": "expected an indented block (2627479992.py, line 4)",
     "output_type": "error",
     "traceback": [
      "\u001b[1;36m  Cell \u001b[1;32mIn [11], line 4\u001b[1;36m\u001b[0m\n\u001b[1;33m    if num > 1:\u001b[0m\n\u001b[1;37m    ^\u001b[0m\n\u001b[1;31mIndentationError\u001b[0m\u001b[1;31m:\u001b[0m expected an indented block\n"
     ]
    }
   ],
   "source": [
    "\n",
    "if i>1:\n",
    "    for i in mylist:\n",
    "        if num > 1:\n",
    "            for i in range(2, num):\n",
    "                if (num % i) == 0:\n",
    "                    break\n",
    "    else:\n",
    "        print(num)"
   ]
  },
  {
   "cell_type": "code",
   "execution_count": 14,
   "id": "6d0e82c9",
   "metadata": {
    "scrolled": true
   },
   "outputs": [
    {
     "name": "stdout",
     "output_type": "stream",
     "text": [
      "Enter numbers in the array : 857897.56565,5665,676767,56454,56546543,'jhfjkdgh'\n",
      "['8', '5', '7', '8', '9', '7', '.', '5', '6', '5', '6', '5', ',', '5', '6', '6', '5', ',', '6', '7', '6', '7', '6', '7', ',', '5', '6', '4', '5', '4', ',', '5', '6', '5', '4', '6', '5', '4', '3', ',', \"'\", 'j', 'h', 'f', 'j', 'k', 'd', 'g', 'h', \"'\"]\n"
     ]
    }
   ],
   "source": [
    "mylist=list(input('Enter numbers in the array : '))\n",
    "print(mylist)"
   ]
  },
  {
   "cell_type": "code",
   "execution_count": 37,
   "id": "07b470c8",
   "metadata": {},
   "outputs": [
    {
     "name": "stdout",
     "output_type": "stream",
     "text": [
      "Enter your input: 987\n",
      "[987]\n",
      "None\n"
     ]
    }
   ],
   "source": [
    "mylist=[int(input('Enter your input: '))]\n",
    "print(mylist)\n",
    "ne=mylist.append(mylist)\n",
    "print(ne)"
   ]
  },
  {
   "cell_type": "code",
   "execution_count": null,
   "id": "3fd14c0a",
   "metadata": {},
   "outputs": [],
   "source": []
  },
  {
   "cell_type": "code",
   "execution_count": 20,
   "id": "95fb188e",
   "metadata": {},
   "outputs": [],
   "source": [
    "mylist1=[]\n",
    "input('Enter 1st number')\n",
    "mylist1.append(2)"
   ]
  },
  {
   "cell_type": "code",
   "execution_count": 21,
   "id": "8f312656",
   "metadata": {},
   "outputs": [
    {
     "data": {
      "text/plain": [
       "[2]"
      ]
     },
     "execution_count": 21,
     "metadata": {},
     "output_type": "execute_result"
    }
   ],
   "source": [
    "mylist1"
   ]
  },
  {
   "cell_type": "code",
   "execution_count": null,
   "id": "dda17638",
   "metadata": {},
   "outputs": [],
   "source": [
    "mylist=int(list(input('Enter your input')))\n",
    "\n",
    "print(\"Prime numbers in the given input are: \")\n",
    "\n",
    "for num in range(lower, upper + 1):\n",
    "   # all prime numbers are greater than 1\n",
    "   if num > 1:\n",
    "       for i in range(2, num):\n",
    "           if (num % i) == 0:\n",
    "               break\n",
    "       else:\n",
    "           print(num)\n",
    "            \n",
    "            \n",
    "            \n",
    "if num > 1:\n",
    "   # check for factors\n",
    "   for i in range(2,num):\n",
    "       if (num % i) == 0:\n",
    "           print(num,\"is not a prime number\")\n",
    "           print(i,\"times\",num//i,\"is\",num)\n",
    "           break\n",
    "   else:\n",
    "       print(num,\"is a prime number\")\n",
    "       \n",
    "# if input number is less than\n",
    "# or equal to 1, it is not prime\n",
    "else:\n",
    "   print(num,\"is not a prime number\")   "
   ]
  }
 ],
 "metadata": {
  "kernelspec": {
   "display_name": "Python 3 (ipykernel)",
   "language": "python",
   "name": "python3"
  },
  "language_info": {
   "codemirror_mode": {
    "name": "ipython",
    "version": 3
   },
   "file_extension": ".py",
   "mimetype": "text/x-python",
   "name": "python",
   "nbconvert_exporter": "python",
   "pygments_lexer": "ipython3",
   "version": "3.9.15"
  }
 },
 "nbformat": 4,
 "nbformat_minor": 5
}
